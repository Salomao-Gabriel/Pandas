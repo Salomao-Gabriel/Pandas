{
 "cells": [
  {
   "cell_type": "code",
   "execution_count": null,
   "id": "abeda506",
   "metadata": {},
   "outputs": [],
   "source": [
    "import pandas as pd\n",
    "from pyrfc import Connection\n",
    "\n",
    "# SAP connection parameters\n",
    "sap_conn_params = {\n",
    "    'user': 'your_username',\n",
    "    'passwd': 'your_password',\n",
    "    'ashost': 'your_application_server_host',\n",
    "    'sysnr': 'your_system_number',\n",
    "    'client': 'your_client_number',\n",
    "}\n",
    "\n",
    "# Connect to SAP\n",
    "conn = Connection(**sap_conn_params)\n",
    "\n",
    "# Invoke a function module in SAP\n",
    "result = conn.call('BAPI_COMPANYCODE_GETLIST')\n",
    "\n",
    "# Convert the data to a DataFrame\n",
    "df = pd.DataFrame(result['COMPANYCODE_LIST'])\n",
    "\n",
    "# Display the DataFrame\n",
    "print(df.head())\n"
   ]
  }
 ],
 "metadata": {
  "kernelspec": {
   "display_name": "Python 3 (ipykernel)",
   "language": "python",
   "name": "python3"
  },
  "language_info": {
   "codemirror_mode": {
    "name": "ipython",
    "version": 3
   },
   "file_extension": ".py",
   "mimetype": "text/x-python",
   "name": "python",
   "nbconvert_exporter": "python",
   "pygments_lexer": "ipython3",
   "version": "3.10.9"
  }
 },
 "nbformat": 4,
 "nbformat_minor": 5
}
