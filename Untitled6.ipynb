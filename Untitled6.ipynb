{
 "cells": [
  {
   "cell_type": "code",
   "execution_count": null,
   "id": "5aa4107b",
   "metadata": {},
   "outputs": [],
   "source": [
    "import pandas as pd\n",
    "from simple_salesforce import Salesforce\n",
    "\n",
    "# Salesforce credentials\n",
    "username = 'your_username'\n",
    "password = 'your_password'\n",
    "security_token = 'your_security_token'\n",
    "\n",
    "# Connect to Salesforce\n",
    "sf = Salesforce(username=username, password=password, security_token=security_token)\n",
    "\n",
    "# Query Salesforce data\n",
    "soql_query = 'SELECT Id, Name, Account.Name, CloseDate FROM Opportunity LIMIT 100'\n",
    "results = sf.query_all(soql_query)['records']\n",
    "\n",
    "# Convert the data to a DataFrame\n",
    "df = pd.DataFrame(results)\n",
    "df = df[['Id', 'Name', 'Account.Name', 'CloseDate']]\n",
    "\n",
    "# Display the DataFrame\n",
    "print(df.head())\n"
   ]
  }
 ],
 "metadata": {
  "kernelspec": {
   "display_name": "Python 3 (ipykernel)",
   "language": "python",
   "name": "python3"
  },
  "language_info": {
   "codemirror_mode": {
    "name": "ipython",
    "version": 3
   },
   "file_extension": ".py",
   "mimetype": "text/x-python",
   "name": "python",
   "nbconvert_exporter": "python",
   "pygments_lexer": "ipython3",
   "version": "3.10.9"
  }
 },
 "nbformat": 4,
 "nbformat_minor": 5
}
