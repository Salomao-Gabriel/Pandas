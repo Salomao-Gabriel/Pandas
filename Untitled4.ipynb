{
 "cells": [
  {
   "cell_type": "code",
   "execution_count": null,
   "id": "0c69a3b6",
   "metadata": {},
   "outputs": [],
   "source": [
    "import pandas as pd\n",
    "\n",
    "# Define a dictionary mapping US state names to numbers\n",
    "us_state_numbers = {\n",
    "    'Alabama': '2',\n",
    "    'Alaska': '3',\n",
    "    'Arizona': '4',\n",
    "    # ... Add more state names and numbers as needed\n",
    "}\n",
    "\n",
    "# Read the CSV file into a DataFrame\n",
    "input_file = 'input.csv'\n",
    "output_file = 'output.csv'\n",
    "\n",
    "df = pd.read_csv(input_file)\n",
    "\n",
    "# Modify the \"region\" column\n",
    "df['region'] = df['region'].replace(us_state_numbers)\n",
    "\n",
    "# Replace empty values in the \"Position\" column with \"Watching\"\n",
    "df['Position'] = df['Position'].fillna('Watching')\n",
    "\n",
    "# Write the modified data to a new CSV file\n",
    "df.to_csv(output_file, index=False)\n",
    "\n",
    "print(\"CSV file processed successfully!\")"
   ]
  }
 ],
 "metadata": {
  "kernelspec": {
   "display_name": "Python 3 (ipykernel)",
   "language": "python",
   "name": "python3"
  },
  "language_info": {
   "codemirror_mode": {
    "name": "ipython",
    "version": 3
   },
   "file_extension": ".py",
   "mimetype": "text/x-python",
   "name": "python",
   "nbconvert_exporter": "python",
   "pygments_lexer": "ipython3",
   "version": "3.10.9"
  }
 },
 "nbformat": 4,
 "nbformat_minor": 5
}
